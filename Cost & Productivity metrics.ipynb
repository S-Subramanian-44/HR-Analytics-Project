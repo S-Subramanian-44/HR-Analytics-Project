{
 "cells": [
  {
   "cell_type": "code",
   "execution_count": 1,
   "id": "5a4ea8a4-fd38-4f92-8d47-1ad6175f6b4a",
   "metadata": {},
   "outputs": [
    {
     "name": "stderr",
     "output_type": "stream",
     "text": [
      "<>:9: SyntaxWarning: invalid escape sequence '\\C'\n",
      "<>:9: SyntaxWarning: invalid escape sequence '\\C'\n",
      "C:\\Users\\DELL\\AppData\\Local\\Temp\\ipykernel_12248\\1140894604.py:9: SyntaxWarning: invalid escape sequence '\\C'\n",
      "  df= pd.read_excel(\"D:\\CIT\\SEM 5\\Human Resources System Developement Lab\\EX 4.xlsx\",sheet_name=\"Cost & Prod\")\n"
     ]
    },
    {
     "data": {
      "text/html": [
       "<div>\n",
       "<style scoped>\n",
       "    .dataframe tbody tr th:only-of-type {\n",
       "        vertical-align: middle;\n",
       "    }\n",
       "\n",
       "    .dataframe tbody tr th {\n",
       "        vertical-align: top;\n",
       "    }\n",
       "\n",
       "    .dataframe thead th {\n",
       "        text-align: right;\n",
       "    }\n",
       "</style>\n",
       "<table border=\"1\" class=\"dataframe\">\n",
       "  <thead>\n",
       "    <tr style=\"text-align: right;\">\n",
       "      <th></th>\n",
       "      <th>Number of units produced</th>\n",
       "      <th>Hours</th>\n",
       "      <th>Compensation cost</th>\n",
       "      <th>Compensation score</th>\n",
       "    </tr>\n",
       "  </thead>\n",
       "  <tbody>\n",
       "    <tr>\n",
       "      <th>0</th>\n",
       "      <td>1223</td>\n",
       "      <td>9</td>\n",
       "      <td>29456</td>\n",
       "      <td>56</td>\n",
       "    </tr>\n",
       "    <tr>\n",
       "      <th>1</th>\n",
       "      <td>1247</td>\n",
       "      <td>8</td>\n",
       "      <td>28744</td>\n",
       "      <td>36</td>\n",
       "    </tr>\n",
       "    <tr>\n",
       "      <th>2</th>\n",
       "      <td>1945</td>\n",
       "      <td>12</td>\n",
       "      <td>43774</td>\n",
       "      <td>85</td>\n",
       "    </tr>\n",
       "    <tr>\n",
       "      <th>3</th>\n",
       "      <td>1553</td>\n",
       "      <td>11</td>\n",
       "      <td>27655</td>\n",
       "      <td>41</td>\n",
       "    </tr>\n",
       "    <tr>\n",
       "      <th>4</th>\n",
       "      <td>1838</td>\n",
       "      <td>8</td>\n",
       "      <td>60258</td>\n",
       "      <td>40</td>\n",
       "    </tr>\n",
       "    <tr>\n",
       "      <th>5</th>\n",
       "      <td>1409</td>\n",
       "      <td>9</td>\n",
       "      <td>75334</td>\n",
       "      <td>37</td>\n",
       "    </tr>\n",
       "  </tbody>\n",
       "</table>\n",
       "</div>"
      ],
      "text/plain": [
       "   Number of units produced  Hours  Compensation cost  Compensation score\n",
       "0                      1223      9              29456                  56\n",
       "1                      1247      8              28744                  36\n",
       "2                      1945     12              43774                  85\n",
       "3                      1553     11              27655                  41\n",
       "4                      1838      8              60258                  40\n",
       "5                      1409      9              75334                  37"
      ]
     },
     "execution_count": 1,
     "metadata": {},
     "output_type": "execute_result"
    }
   ],
   "source": [
    "import pandas as pd\n",
    "import numpy as np\n",
    "import matplotlib.pyplot as plt\n",
    "from scipy.cluster import hierarchy\n",
    "from tabulate import tabulate\n",
    "from sklearn.preprocessing import StandardScaler\n",
    "from sklearn.cluster import KMeans\n",
    "\n",
    "df= pd.read_excel(\"D:\\CIT\\SEM 5\\Human Resources System Developement Lab\\EX 4.xlsx\",sheet_name=\"Cost & Prod\")\n",
    "df.head(6)"
   ]
  },
  {
   "cell_type": "code",
   "execution_count": 2,
   "id": "18731af5-f682-4634-9687-b8f479aeec85",
   "metadata": {},
   "outputs": [
    {
     "data": {
      "text/html": [
       "<div>\n",
       "<style scoped>\n",
       "    .dataframe tbody tr th:only-of-type {\n",
       "        vertical-align: middle;\n",
       "    }\n",
       "\n",
       "    .dataframe tbody tr th {\n",
       "        vertical-align: top;\n",
       "    }\n",
       "\n",
       "    .dataframe thead th {\n",
       "        text-align: right;\n",
       "    }\n",
       "</style>\n",
       "<table border=\"1\" class=\"dataframe\">\n",
       "  <thead>\n",
       "    <tr style=\"text-align: right;\">\n",
       "      <th></th>\n",
       "      <th>Number of units produced</th>\n",
       "      <th>Hours</th>\n",
       "      <th>Compensation cost</th>\n",
       "      <th>Compensation score</th>\n",
       "    </tr>\n",
       "  </thead>\n",
       "  <tbody>\n",
       "    <tr>\n",
       "      <th>Number of units produced</th>\n",
       "      <td>1.000000</td>\n",
       "      <td>0.046329</td>\n",
       "      <td>0.233797</td>\n",
       "      <td>0.204151</td>\n",
       "    </tr>\n",
       "    <tr>\n",
       "      <th>Hours</th>\n",
       "      <td>0.046329</td>\n",
       "      <td>1.000000</td>\n",
       "      <td>-0.065351</td>\n",
       "      <td>0.078779</td>\n",
       "    </tr>\n",
       "    <tr>\n",
       "      <th>Compensation cost</th>\n",
       "      <td>0.233797</td>\n",
       "      <td>-0.065351</td>\n",
       "      <td>1.000000</td>\n",
       "      <td>0.056297</td>\n",
       "    </tr>\n",
       "    <tr>\n",
       "      <th>Compensation score</th>\n",
       "      <td>0.204151</td>\n",
       "      <td>0.078779</td>\n",
       "      <td>0.056297</td>\n",
       "      <td>1.000000</td>\n",
       "    </tr>\n",
       "  </tbody>\n",
       "</table>\n",
       "</div>"
      ],
      "text/plain": [
       "                          Number of units produced     Hours  \\\n",
       "Number of units produced                  1.000000  0.046329   \n",
       "Hours                                     0.046329  1.000000   \n",
       "Compensation cost                         0.233797 -0.065351   \n",
       "Compensation score                        0.204151  0.078779   \n",
       "\n",
       "                          Compensation cost  Compensation score  \n",
       "Number of units produced           0.233797            0.204151  \n",
       "Hours                             -0.065351            0.078779  \n",
       "Compensation cost                  1.000000            0.056297  \n",
       "Compensation score                 0.056297            1.000000  "
      ]
     },
     "execution_count": 2,
     "metadata": {},
     "output_type": "execute_result"
    }
   ],
   "source": [
    "cor = df.corr()\n",
    "cor"
   ]
  },
  {
   "cell_type": "code",
   "execution_count": 3,
   "id": "8ac1eba7-0c61-4996-9b38-fd6030f62083",
   "metadata": {},
   "outputs": [
    {
     "data": {
      "text/plain": [
       "Number of units produced    0\n",
       "Hours                       0\n",
       "Compensation cost           0\n",
       "Compensation score          0\n",
       "dtype: int64"
      ]
     },
     "execution_count": 3,
     "metadata": {},
     "output_type": "execute_result"
    }
   ],
   "source": [
    "\n",
    "df.dtypes\n",
    "df.isnull().sum()"
   ]
  },
  {
   "cell_type": "code",
   "execution_count": 4,
   "id": "34fb084a-bffb-4f7f-a35e-0317a4f41eef",
   "metadata": {},
   "outputs": [
    {
     "ename": "NameError",
     "evalue": "name 'feat' is not defined",
     "output_type": "error",
     "traceback": [
      "\u001b[1;31m---------------------------------------------------------------------------\u001b[0m",
      "\u001b[1;31mNameError\u001b[0m                                 Traceback (most recent call last)",
      "Cell \u001b[1;32mIn[4], line 6\u001b[0m\n\u001b[0;32m      2\u001b[0m cs \u001b[38;5;241m=\u001b[39m df[\u001b[38;5;124m'\u001b[39m\u001b[38;5;124mCompensation score\u001b[39m\u001b[38;5;124m'\u001b[39m]\u001b[38;5;241m.\u001b[39mvalues\n\u001b[0;32m      4\u001b[0m kmeans \u001b[38;5;241m=\u001b[39m KMeans(n_clusters\u001b[38;5;241m=\u001b[39m\u001b[38;5;241m3\u001b[39m, n_init\u001b[38;5;241m=\u001b[39m\u001b[38;5;241m10\u001b[39m)\n\u001b[1;32m----> 6\u001b[0m kmeans\u001b[38;5;241m.\u001b[39mfit(\u001b[43mfeat\u001b[49m)\n\u001b[0;32m      8\u001b[0m labels \u001b[38;5;241m=\u001b[39m kmeans\u001b[38;5;241m.\u001b[39mpredict(feat)\n\u001b[0;32m     10\u001b[0m df[\u001b[38;5;124m'\u001b[39m\u001b[38;5;124mCluster\u001b[39m\u001b[38;5;124m'\u001b[39m] \u001b[38;5;241m=\u001b[39m labels\n",
      "\u001b[1;31mNameError\u001b[0m: name 'feat' is not defined"
     ]
    }
   ],
   "source": [
    "hr = df['Hours'].values\n",
    "cs = df['Compensation score'].values\n",
    "\n",
    "kmeans = KMeans(n_clusters=3, n_init=10)\n",
    "\n",
    "kmeans.fit(feat)\n",
    "\n",
    "labels = kmeans.predict(feat)\n",
    "\n",
    "df['Cluster'] = labels\n",
    "\n",
    "plt.scatter(hr, cs, c=labels, cmap='rainbow')\n",
    "plt.xlabel('Hours')\n",
    "plt.ylabel('Compensation score')\n",
    "plt.title('K-Means Clustering')\n",
    "plt.show()\n"
   ]
  },
  {
   "cell_type": "code",
   "execution_count": null,
   "id": "6c375f5a-688a-492b-b33e-15265ba0498b",
   "metadata": {},
   "outputs": [],
   "source": [
    "means = df.groupby('Number of units produced')['Hours'].mean()\n",
    "\n",
    "print(means)\n",
    "\n",
    "correlation = df['Hours'].corr(df['Compensation score'])\n",
    "\n",
    "print(correlation)"
   ]
  },
  {
   "cell_type": "code",
   "execution_count": null,
   "id": "87775028-d8de-4890-96e1-eed699a1dc08",
   "metadata": {},
   "outputs": [],
   "source": [
    "import seaborn as sns\n",
    "import matplotlib.pyplot as plt\n",
    "\n",
    "plt.figure(figsize=(20, 8))\n",
    "sns.heatmap(cor, annot=True, cmap='plasma', fmt=\".2f\", linewidths=.5)\n",
    "plt.title(\"Correlation Heatmap\")\n",
    "plt.show()"
   ]
  },
  {
   "cell_type": "code",
   "execution_count": null,
   "id": "0d489aa0-3926-4534-a8b0-96f58628491b",
   "metadata": {},
   "outputs": [],
   "source": []
  }
 ],
 "metadata": {
  "kernelspec": {
   "display_name": "Python 3 (ipykernel)",
   "language": "python",
   "name": "python3"
  },
  "language_info": {
   "codemirror_mode": {
    "name": "ipython",
    "version": 3
   },
   "file_extension": ".py",
   "mimetype": "text/x-python",
   "name": "python",
   "nbconvert_exporter": "python",
   "pygments_lexer": "ipython3",
   "version": "3.12.0"
  }
 },
 "nbformat": 4,
 "nbformat_minor": 5
}
